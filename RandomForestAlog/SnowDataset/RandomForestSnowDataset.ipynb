{
 "cells": [
  {
   "cell_type": "code",
   "execution_count": 117,
   "metadata": {},
   "outputs": [],
   "source": [
    "import numpy as np # linear algebra\n",
    "import pandas as pd # data processing, CSV file I/O (e.g. pd.read_csv)\n",
    "import matplotlib.pyplot as plt # data visualization\n",
    "import seaborn as sns # statistical data visualization\n",
    "from sklearn.model_selection import KFold, StratifiedKFold, cross_val_score \n",
    "from sklearn.metrics import roc_auc_score\n",
    "from sklearn import metrics\n",
    "from sklearn import linear_model, tree, ensemble\n",
    "from sklearn.model_selection import cross_validate\n",
    "%matplotlib inline"
   ]
  },
  {
   "cell_type": "code",
   "execution_count": 118,
   "metadata": {},
   "outputs": [],
   "source": [
    "Dataset = 'FinalCompleteDatasetwithLocationUpdated.csv'"
   ]
  },
  {
   "cell_type": "code",
   "execution_count": 119,
   "metadata": {},
   "outputs": [],
   "source": [
    "df = pd.read_csv(Dataset)"
   ]
  },
  {
   "cell_type": "code",
   "execution_count": 120,
   "metadata": {},
   "outputs": [
    {
     "data": {
      "text/html": [
       "<div>\n",
       "<style scoped>\n",
       "    .dataframe tbody tr th:only-of-type {\n",
       "        vertical-align: middle;\n",
       "    }\n",
       "\n",
       "    .dataframe tbody tr th {\n",
       "        vertical-align: top;\n",
       "    }\n",
       "\n",
       "    .dataframe thead th {\n",
       "        text-align: right;\n",
       "    }\n",
       "</style>\n",
       "<table border=\"1\" class=\"dataframe\">\n",
       "  <thead>\n",
       "    <tr style=\"text-align: right;\">\n",
       "      <th></th>\n",
       "      <th>Location</th>\n",
       "      <th>Region</th>\n",
       "      <th>SnowDepth</th>\n",
       "      <th>Class</th>\n",
       "      <th>X</th>\n",
       "      <th>Y</th>\n",
       "      <th>Coordinates</th>\n",
       "      <th>Snowvolume</th>\n",
       "      <th>Snowweight</th>\n",
       "      <th>Maxpressure</th>\n",
       "      <th>Minpressure</th>\n",
       "      <th>Meanpressure</th>\n",
       "      <th>Temperature</th>\n",
       "      <th>RHumidity</th>\n",
       "      <th>MinAmplitude</th>\n",
       "      <th>MaxAmplitude</th>\n",
       "      <th>MeanAmplitude</th>\n",
       "    </tr>\n",
       "  </thead>\n",
       "  <tbody>\n",
       "    <tr>\n",
       "      <th>0</th>\n",
       "      <td>1</td>\n",
       "      <td>SR1</td>\n",
       "      <td>30</td>\n",
       "      <td>4</td>\n",
       "      <td>65.061403</td>\n",
       "      <td>25.479150</td>\n",
       "      <td>65.061403475,25.4791502965053</td>\n",
       "      <td>9702.60</td>\n",
       "      <td>435</td>\n",
       "      <td>22.77</td>\n",
       "      <td>1.86</td>\n",
       "      <td>3.310000</td>\n",
       "      <td>15.430000</td>\n",
       "      <td>11.503333</td>\n",
       "      <td>47.309760</td>\n",
       "      <td>51.293321</td>\n",
       "      <td>48.464098</td>\n",
       "    </tr>\n",
       "    <tr>\n",
       "      <th>1</th>\n",
       "      <td>2</td>\n",
       "      <td>SR1</td>\n",
       "      <td>35</td>\n",
       "      <td>5</td>\n",
       "      <td>65.061446</td>\n",
       "      <td>25.478976</td>\n",
       "      <td>65.061446009,25.4789757112956</td>\n",
       "      <td>11319.70</td>\n",
       "      <td>618</td>\n",
       "      <td>24.34</td>\n",
       "      <td>1.40</td>\n",
       "      <td>5.287727</td>\n",
       "      <td>15.590909</td>\n",
       "      <td>11.040909</td>\n",
       "      <td>46.020600</td>\n",
       "      <td>49.187850</td>\n",
       "      <td>48.135447</td>\n",
       "    </tr>\n",
       "    <tr>\n",
       "      <th>2</th>\n",
       "      <td>3</td>\n",
       "      <td>SR1</td>\n",
       "      <td>39</td>\n",
       "      <td>6</td>\n",
       "      <td>65.061393</td>\n",
       "      <td>25.479098</td>\n",
       "      <td>65.0613925,25.4790982528733</td>\n",
       "      <td>12613.38</td>\n",
       "      <td>752</td>\n",
       "      <td>11.35</td>\n",
       "      <td>0.55</td>\n",
       "      <td>6.089000</td>\n",
       "      <td>15.716667</td>\n",
       "      <td>10.053333</td>\n",
       "      <td>45.436832</td>\n",
       "      <td>51.126050</td>\n",
       "      <td>48.047521</td>\n",
       "    </tr>\n",
       "    <tr>\n",
       "      <th>3</th>\n",
       "      <td>4</td>\n",
       "      <td>SR1</td>\n",
       "      <td>17</td>\n",
       "      <td>2</td>\n",
       "      <td>65.061397</td>\n",
       "      <td>25.479207</td>\n",
       "      <td>65.0613972,25.4792070106939</td>\n",
       "      <td>5498.14</td>\n",
       "      <td>325</td>\n",
       "      <td>26.12</td>\n",
       "      <td>2.00</td>\n",
       "      <td>3.030000</td>\n",
       "      <td>17.200000</td>\n",
       "      <td>8.485417</td>\n",
       "      <td>47.857601</td>\n",
       "      <td>54.469113</td>\n",
       "      <td>47.857601</td>\n",
       "    </tr>\n",
       "    <tr>\n",
       "      <th>4</th>\n",
       "      <td>5</td>\n",
       "      <td>SR1</td>\n",
       "      <td>13</td>\n",
       "      <td>1</td>\n",
       "      <td>65.061179</td>\n",
       "      <td>25.479134</td>\n",
       "      <td>65.06117902006007, 25.479133551302514</td>\n",
       "      <td>4204.46</td>\n",
       "      <td>250</td>\n",
       "      <td>41.22</td>\n",
       "      <td>3.89</td>\n",
       "      <td>10.802500</td>\n",
       "      <td>15.700000</td>\n",
       "      <td>16.425000</td>\n",
       "      <td>44.454329</td>\n",
       "      <td>50.906142</td>\n",
       "      <td>48.351279</td>\n",
       "    </tr>\n",
       "  </tbody>\n",
       "</table>\n",
       "</div>"
      ],
      "text/plain": [
       "   Location Region  SnowDepth  Class          X          Y  \\\n",
       "0         1    SR1         30      4  65.061403  25.479150   \n",
       "1         2    SR1         35      5  65.061446  25.478976   \n",
       "2         3    SR1         39      6  65.061393  25.479098   \n",
       "3         4    SR1         17      2  65.061397  25.479207   \n",
       "4         5    SR1         13      1  65.061179  25.479134   \n",
       "\n",
       "                             Coordinates  Snowvolume  Snowweight  Maxpressure  \\\n",
       "0          65.061403475,25.4791502965053     9702.60         435        22.77   \n",
       "1          65.061446009,25.4789757112956    11319.70         618        24.34   \n",
       "2            65.0613925,25.4790982528733    12613.38         752        11.35   \n",
       "3            65.0613972,25.4792070106939     5498.14         325        26.12   \n",
       "4  65.06117902006007, 25.479133551302514     4204.46         250        41.22   \n",
       "\n",
       "   Minpressure  Meanpressure  Temperature  RHumidity  MinAmplitude  \\\n",
       "0         1.86      3.310000    15.430000  11.503333     47.309760   \n",
       "1         1.40      5.287727    15.590909  11.040909     46.020600   \n",
       "2         0.55      6.089000    15.716667  10.053333     45.436832   \n",
       "3         2.00      3.030000    17.200000   8.485417     47.857601   \n",
       "4         3.89     10.802500    15.700000  16.425000     44.454329   \n",
       "\n",
       "   MaxAmplitude  MeanAmplitude  \n",
       "0     51.293321      48.464098  \n",
       "1     49.187850      48.135447  \n",
       "2     51.126050      48.047521  \n",
       "3     54.469113      47.857601  \n",
       "4     50.906142      48.351279  "
      ]
     },
     "execution_count": 120,
     "metadata": {},
     "output_type": "execute_result"
    }
   ],
   "source": [
    "df.head()"
   ]
  },
  {
   "cell_type": "code",
   "execution_count": 121,
   "metadata": {},
   "outputs": [],
   "source": [
    "#X = df.drop(['Location', 'Class', 'SnowDepth','SnowDensity'], axis = 1)\n",
    "X = df[['Maxpressure','Minpressure','Meanpressure','RHumidity','MinAmplitude']]"
   ]
  },
  {
   "cell_type": "code",
   "execution_count": 122,
   "metadata": {},
   "outputs": [
    {
     "data": {
      "text/html": [
       "<div>\n",
       "<style scoped>\n",
       "    .dataframe tbody tr th:only-of-type {\n",
       "        vertical-align: middle;\n",
       "    }\n",
       "\n",
       "    .dataframe tbody tr th {\n",
       "        vertical-align: top;\n",
       "    }\n",
       "\n",
       "    .dataframe thead th {\n",
       "        text-align: right;\n",
       "    }\n",
       "</style>\n",
       "<table border=\"1\" class=\"dataframe\">\n",
       "  <thead>\n",
       "    <tr style=\"text-align: right;\">\n",
       "      <th></th>\n",
       "      <th>Maxpressure</th>\n",
       "      <th>Minpressure</th>\n",
       "      <th>Meanpressure</th>\n",
       "      <th>RHumidity</th>\n",
       "      <th>MinAmplitude</th>\n",
       "    </tr>\n",
       "  </thead>\n",
       "  <tbody>\n",
       "    <tr>\n",
       "      <th>0</th>\n",
       "      <td>22.77</td>\n",
       "      <td>1.86</td>\n",
       "      <td>3.310000</td>\n",
       "      <td>11.503333</td>\n",
       "      <td>47.309760</td>\n",
       "    </tr>\n",
       "    <tr>\n",
       "      <th>1</th>\n",
       "      <td>24.34</td>\n",
       "      <td>1.40</td>\n",
       "      <td>5.287727</td>\n",
       "      <td>11.040909</td>\n",
       "      <td>46.020600</td>\n",
       "    </tr>\n",
       "    <tr>\n",
       "      <th>2</th>\n",
       "      <td>11.35</td>\n",
       "      <td>0.55</td>\n",
       "      <td>6.089000</td>\n",
       "      <td>10.053333</td>\n",
       "      <td>45.436832</td>\n",
       "    </tr>\n",
       "    <tr>\n",
       "      <th>3</th>\n",
       "      <td>26.12</td>\n",
       "      <td>2.00</td>\n",
       "      <td>3.030000</td>\n",
       "      <td>8.485417</td>\n",
       "      <td>47.857601</td>\n",
       "    </tr>\n",
       "    <tr>\n",
       "      <th>4</th>\n",
       "      <td>41.22</td>\n",
       "      <td>3.89</td>\n",
       "      <td>10.802500</td>\n",
       "      <td>16.425000</td>\n",
       "      <td>44.454329</td>\n",
       "    </tr>\n",
       "  </tbody>\n",
       "</table>\n",
       "</div>"
      ],
      "text/plain": [
       "   Maxpressure  Minpressure  Meanpressure  RHumidity  MinAmplitude\n",
       "0        22.77         1.86      3.310000  11.503333     47.309760\n",
       "1        24.34         1.40      5.287727  11.040909     46.020600\n",
       "2        11.35         0.55      6.089000  10.053333     45.436832\n",
       "3        26.12         2.00      3.030000   8.485417     47.857601\n",
       "4        41.22         3.89     10.802500  16.425000     44.454329"
      ]
     },
     "execution_count": 122,
     "metadata": {},
     "output_type": "execute_result"
    }
   ],
   "source": [
    "X.head()"
   ]
  },
  {
   "cell_type": "code",
   "execution_count": 123,
   "metadata": {},
   "outputs": [],
   "source": [
    "y = df['Class']"
   ]
  },
  {
   "cell_type": "code",
   "execution_count": 124,
   "metadata": {},
   "outputs": [
    {
     "name": "stdout",
     "output_type": "stream",
     "text": [
      "0     4\n",
      "1     5\n",
      "2     6\n",
      "3     2\n",
      "4     1\n",
      "     ..\n",
      "85    2\n",
      "86    5\n",
      "87    6\n",
      "88    1\n",
      "89    3\n",
      "Name: Class, Length: 90, dtype: int64\n"
     ]
    }
   ],
   "source": [
    "#y.head()\n",
    "print(y)\n",
    "#y.shape"
   ]
  },
  {
   "cell_type": "code",
   "execution_count": 125,
   "metadata": {},
   "outputs": [],
   "source": [
    "from sklearn.model_selection import train_test_split\n",
    "\n",
    "X_train, X_test, y_train, y_test = train_test_split(X, y, test_size = 0.20, random_state = 42)"
   ]
  },
  {
   "cell_type": "code",
   "execution_count": 126,
   "metadata": {},
   "outputs": [
    {
     "data": {
      "text/plain": [
       "((72, 5), (18, 5))"
      ]
     },
     "execution_count": 126,
     "metadata": {},
     "output_type": "execute_result"
    }
   ],
   "source": [
    "X_train.shape, X_test.shape"
   ]
  },
  {
   "cell_type": "code",
   "execution_count": 56,
   "metadata": {},
   "outputs": [
    {
     "name": "stdout",
     "output_type": "stream",
     "text": [
      "40    1\n",
      "22    5\n",
      "55    5\n",
      "70    4\n",
      "0     4\n",
      "26    6\n",
      "39    2\n",
      "65    1\n",
      "10    1\n",
      "44    4\n",
      "81    3\n",
      "35    2\n",
      "56    6\n",
      "86    5\n",
      "12    4\n",
      "4     1\n",
      "18    4\n",
      "28    2\n",
      "Name: Class, dtype: int64\n"
     ]
    }
   ],
   "source": [
    "print(y_test)\n"
   ]
  },
  {
   "cell_type": "code",
   "execution_count": 127,
   "metadata": {},
   "outputs": [
    {
     "name": "stdout",
     "output_type": "stream",
     "text": [
      "Model accuracy score with 10 decision-trees : 0.8889\n",
      "[1 5 5 4 4 6 2 1 1 4 3 2 4 5 4 1 3 2]\n"
     ]
    }
   ],
   "source": [
    "\n",
    "from sklearn.ensemble import RandomForestClassifier\n",
    "\n",
    "# instantiate the classifier \n",
    "\n",
    "rfc = RandomForestClassifier(random_state=42)\n",
    "\n",
    "# fit the model\n",
    "\n",
    "rfc.fit(X_train, y_train)\n",
    "\n",
    "# Predict the Test set results\n",
    "\n",
    "y_pred = rfc.predict(X_test)\n",
    "\n",
    "\n",
    "\n",
    "# Check accuracy score \n",
    "\n",
    "from sklearn.metrics import accuracy_score\n",
    "\n",
    "print('Model accuracy score with 10 decision-trees : {0:0.4f}'. format(accuracy_score(y_test, y_pred)))\n",
    "print(y_pred.T)"
   ]
  },
  {
   "cell_type": "code",
   "execution_count": 58,
   "metadata": {},
   "outputs": [
    {
     "name": "stdout",
     "output_type": "stream",
     "text": [
      "Model accuracy score with 100 decision-trees : 0.7778\n"
     ]
    }
   ],
   "source": [
    "rfc_100 = RandomForestClassifier(n_estimators=200, random_state=0)\n",
    "# fit the model to the training set\n",
    "\n",
    "rfc_100.fit(X_train, y_train)\n",
    "\n",
    "# Predict on the test set results\n",
    "\n",
    "y_pred_100 = rfc_100.predict(X_test)\n",
    "\n",
    "# Check accuracy score \n",
    "\n",
    "print('Model accuracy score with 100 decision-trees : {0:0.4f}'. format(accuracy_score(y_test, y_pred_100)))"
   ]
  },
  {
   "cell_type": "code",
   "execution_count": 59,
   "metadata": {},
   "outputs": [
    {
     "name": "stdout",
     "output_type": "stream",
     "text": [
      "Confusion matrix\n",
      "\n",
      " [[3 1 0 0 0 0]\n",
      " [0 3 0 0 0 0]\n",
      " [0 0 0 1 0 0]\n",
      " [0 0 1 4 0 0]\n",
      " [0 0 0 0 3 0]\n",
      " [0 0 0 1 0 1]]\n"
     ]
    }
   ],
   "source": [
    "\n",
    "from sklearn.metrics import confusion_matrix\n",
    "\n",
    "cm = confusion_matrix(y_test, y_pred)\n",
    "\n",
    "print('Confusion matrix\\n\\n', cm)"
   ]
  },
  {
   "cell_type": "code",
   "execution_count": 60,
   "metadata": {},
   "outputs": [
    {
     "name": "stdout",
     "output_type": "stream",
     "text": [
      "              precision    recall  f1-score   support\n",
      "\n",
      "           1       1.00      0.75      0.86         4\n",
      "           2       0.75      1.00      0.86         3\n",
      "           3       0.00      0.00      0.00         1\n",
      "           4       0.67      0.80      0.73         5\n",
      "           5       1.00      1.00      1.00         3\n",
      "           6       1.00      0.50      0.67         2\n",
      "\n",
      "    accuracy                           0.78        18\n",
      "   macro avg       0.74      0.67      0.68        18\n",
      "weighted avg       0.81      0.78      0.78        18\n",
      "\n"
     ]
    }
   ],
   "source": [
    "from sklearn.metrics import classification_report\n",
    "\n",
    "print(classification_report(y_test, y_pred))"
   ]
  },
  {
   "cell_type": "code",
   "execution_count": 61,
   "metadata": {},
   "outputs": [
    {
     "name": "stdout",
     "output_type": "stream",
     "text": [
      "Fold:1, Train set: 81, Test set:9\n",
      "Fold:2, Train set: 81, Test set:9\n",
      "Fold:3, Train set: 81, Test set:9\n",
      "Fold:4, Train set: 81, Test set:9\n",
      "Fold:5, Train set: 81, Test set:9\n",
      "Fold:6, Train set: 81, Test set:9\n",
      "Fold:7, Train set: 81, Test set:9\n",
      "Fold:8, Train set: 81, Test set:9\n",
      "Fold:9, Train set: 81, Test set:9\n",
      "Fold:10, Train set: 81, Test set:9\n"
     ]
    }
   ],
   "source": [
    "kf = StratifiedKFold(n_splits=10, shuffle=True, random_state=42)\n",
    "\n",
    "cnt = 1\n",
    "# split()  method generate indices to split data into training and test set.\n",
    "for train_index, test_index in kf.split(X, y):\n",
    "    print(f'Fold:{cnt}, Train set: {len(train_index)}, Test set:{len(test_index)}')\n",
    "    cnt+=1\n",
    "    \n"
   ]
  },
  {
   "cell_type": "code",
   "execution_count": 62,
   "metadata": {},
   "outputs": [
    {
     "name": "stdout",
     "output_type": "stream",
     "text": [
      "Scores for each fold are: [1.         0.77777778 0.88888889 1.         0.88888889 0.77777778\n",
      " 0.66666667 0.77777778 0.88888889 1.        ]\n",
      "Average score: 0.87\n"
     ]
    }
   ],
   "source": [
    "score = cross_val_score(RandomForestClassifier(random_state= 42), X, y, cv= kf, scoring=\"accuracy\")\n",
    "print(f'Scores for each fold are: {score}')\n",
    "print(f'Average score: {\"{:.2f}\".format(score.mean())}')\n"
   ]
  },
  {
   "cell_type": "code",
   "execution_count": null,
   "metadata": {},
   "outputs": [],
   "source": []
  },
  {
   "cell_type": "code",
   "execution_count": null,
   "metadata": {},
   "outputs": [],
   "source": []
  },
  {
   "cell_type": "code",
   "execution_count": 63,
   "metadata": {},
   "outputs": [],
   "source": [
    "n_estimators = [50, 100, 150, 200, 250, 300, 350]\n",
    "\n",
    "#score = cross_val_score(RandomForestClassifier(), X, y, cv= kf, scoring=\"accuracy\")\n",
    "#print(f'Scores for each fold are: {score}')\n",
    "#print(f'Average score: {\"{:.2f}\".format(score.mean())}')"
   ]
  },
  {
   "cell_type": "code",
   "execution_count": 110,
   "metadata": {},
   "outputs": [
    {
     "name": "stdout",
     "output_type": "stream",
     "text": [
      "Average score(50): 0.878\n",
      "Average score(100): 0.867\n",
      "Average score(150): 0.878\n",
      "Average score(200): 0.878\n",
      "Average score(250): 0.878\n",
      "Average score(300): 0.878\n",
      "Average score(350): 0.867\n"
     ]
    },
    {
     "ename": "ValueError",
     "evalue": "x and y must have same first dimension, but have shapes (7,) and (70,)",
     "output_type": "error",
     "traceback": [
      "\u001b[1;31m---------------------------------------------------------------------------\u001b[0m",
      "\u001b[1;31mValueError\u001b[0m                                Traceback (most recent call last)",
      "\u001b[1;32m<ipython-input-110-3a49b14a9f0d>\u001b[0m in \u001b[0;36m<module>\u001b[1;34m\u001b[0m\n\u001b[0;32m      7\u001b[0m \u001b[0mplt\u001b[0m\u001b[1;33m.\u001b[0m\u001b[0msubplots\u001b[0m\u001b[1;33m(\u001b[0m\u001b[1;36m1\u001b[0m\u001b[1;33m,\u001b[0m \u001b[0mfigsize\u001b[0m\u001b[1;33m=\u001b[0m\u001b[1;33m(\u001b[0m\u001b[1;36m7\u001b[0m\u001b[1;33m,\u001b[0m\u001b[1;36m7\u001b[0m\u001b[1;33m)\u001b[0m\u001b[1;33m)\u001b[0m\u001b[1;33m\u001b[0m\u001b[1;33m\u001b[0m\u001b[0m\n\u001b[0;32m      8\u001b[0m \u001b[0mplt\u001b[0m\u001b[1;33m.\u001b[0m\u001b[0mplot\u001b[0m\u001b[1;33m(\u001b[0m\u001b[0mn_estimators\u001b[0m\u001b[1;33m,\u001b[0m \u001b[0mscroe_mean\u001b[0m\u001b[1;33m,\u001b[0m \u001b[0mlabel\u001b[0m\u001b[1;33m=\u001b[0m\u001b[1;34m\"Training score\"\u001b[0m\u001b[1;33m,\u001b[0m \u001b[0mcolor\u001b[0m\u001b[1;33m=\u001b[0m\u001b[1;34m\"black\"\u001b[0m\u001b[1;33m)\u001b[0m\u001b[1;33m\u001b[0m\u001b[1;33m\u001b[0m\u001b[0m\n\u001b[1;32m----> 9\u001b[1;33m \u001b[0mplt\u001b[0m\u001b[1;33m.\u001b[0m\u001b[0mplot\u001b[0m\u001b[1;33m(\u001b[0m\u001b[0mn_estimators\u001b[0m\u001b[1;33m,\u001b[0m \u001b[0mtest_mean\u001b[0m\u001b[1;33m,\u001b[0m \u001b[0mlabel\u001b[0m\u001b[1;33m=\u001b[0m\u001b[1;34m\"Cross-validation score\"\u001b[0m\u001b[1;33m)\u001b[0m\u001b[1;33m\u001b[0m\u001b[1;33m\u001b[0m\u001b[0m\n\u001b[0m\u001b[0;32m     10\u001b[0m \u001b[1;33m\u001b[0m\u001b[0m\n\u001b[0;32m     11\u001b[0m \u001b[1;31m#plt.fill_between(param_range, train_mean - train_std, train_mean + train_std)\u001b[0m\u001b[1;33m\u001b[0m\u001b[1;33m\u001b[0m\u001b[1;33m\u001b[0m\u001b[0m\n",
      "\u001b[1;32mC:\\ProgramData\\Anaconda3\\lib\\site-packages\\matplotlib\\pyplot.py\u001b[0m in \u001b[0;36mplot\u001b[1;34m(scalex, scaley, data, *args, **kwargs)\u001b[0m\n\u001b[0;32m   2794\u001b[0m     return gca().plot(\n\u001b[0;32m   2795\u001b[0m         *args, scalex=scalex, scaley=scaley, **({\"data\": data} if data\n\u001b[1;32m-> 2796\u001b[1;33m         is not None else {}), **kwargs)\n\u001b[0m\u001b[0;32m   2797\u001b[0m \u001b[1;33m\u001b[0m\u001b[0m\n\u001b[0;32m   2798\u001b[0m \u001b[1;33m\u001b[0m\u001b[0m\n",
      "\u001b[1;32mC:\\ProgramData\\Anaconda3\\lib\\site-packages\\matplotlib\\axes\\_axes.py\u001b[0m in \u001b[0;36mplot\u001b[1;34m(self, scalex, scaley, data, *args, **kwargs)\u001b[0m\n\u001b[0;32m   1663\u001b[0m         \"\"\"\n\u001b[0;32m   1664\u001b[0m         \u001b[0mkwargs\u001b[0m \u001b[1;33m=\u001b[0m \u001b[0mcbook\u001b[0m\u001b[1;33m.\u001b[0m\u001b[0mnormalize_kwargs\u001b[0m\u001b[1;33m(\u001b[0m\u001b[0mkwargs\u001b[0m\u001b[1;33m,\u001b[0m \u001b[0mmlines\u001b[0m\u001b[1;33m.\u001b[0m\u001b[0mLine2D\u001b[0m\u001b[1;33m.\u001b[0m\u001b[0m_alias_map\u001b[0m\u001b[1;33m)\u001b[0m\u001b[1;33m\u001b[0m\u001b[1;33m\u001b[0m\u001b[0m\n\u001b[1;32m-> 1665\u001b[1;33m         \u001b[0mlines\u001b[0m \u001b[1;33m=\u001b[0m \u001b[1;33m[\u001b[0m\u001b[1;33m*\u001b[0m\u001b[0mself\u001b[0m\u001b[1;33m.\u001b[0m\u001b[0m_get_lines\u001b[0m\u001b[1;33m(\u001b[0m\u001b[1;33m*\u001b[0m\u001b[0margs\u001b[0m\u001b[1;33m,\u001b[0m \u001b[0mdata\u001b[0m\u001b[1;33m=\u001b[0m\u001b[0mdata\u001b[0m\u001b[1;33m,\u001b[0m \u001b[1;33m**\u001b[0m\u001b[0mkwargs\u001b[0m\u001b[1;33m)\u001b[0m\u001b[1;33m]\u001b[0m\u001b[1;33m\u001b[0m\u001b[1;33m\u001b[0m\u001b[0m\n\u001b[0m\u001b[0;32m   1666\u001b[0m         \u001b[1;32mfor\u001b[0m \u001b[0mline\u001b[0m \u001b[1;32min\u001b[0m \u001b[0mlines\u001b[0m\u001b[1;33m:\u001b[0m\u001b[1;33m\u001b[0m\u001b[1;33m\u001b[0m\u001b[0m\n\u001b[0;32m   1667\u001b[0m             \u001b[0mself\u001b[0m\u001b[1;33m.\u001b[0m\u001b[0madd_line\u001b[0m\u001b[1;33m(\u001b[0m\u001b[0mline\u001b[0m\u001b[1;33m)\u001b[0m\u001b[1;33m\u001b[0m\u001b[1;33m\u001b[0m\u001b[0m\n",
      "\u001b[1;32mC:\\ProgramData\\Anaconda3\\lib\\site-packages\\matplotlib\\axes\\_base.py\u001b[0m in \u001b[0;36m__call__\u001b[1;34m(self, *args, **kwargs)\u001b[0m\n\u001b[0;32m    223\u001b[0m                 \u001b[0mthis\u001b[0m \u001b[1;33m+=\u001b[0m \u001b[0margs\u001b[0m\u001b[1;33m[\u001b[0m\u001b[1;36m0\u001b[0m\u001b[1;33m]\u001b[0m\u001b[1;33m,\u001b[0m\u001b[1;33m\u001b[0m\u001b[1;33m\u001b[0m\u001b[0m\n\u001b[0;32m    224\u001b[0m                 \u001b[0margs\u001b[0m \u001b[1;33m=\u001b[0m \u001b[0margs\u001b[0m\u001b[1;33m[\u001b[0m\u001b[1;36m1\u001b[0m\u001b[1;33m:\u001b[0m\u001b[1;33m]\u001b[0m\u001b[1;33m\u001b[0m\u001b[1;33m\u001b[0m\u001b[0m\n\u001b[1;32m--> 225\u001b[1;33m             \u001b[1;32myield\u001b[0m \u001b[1;32mfrom\u001b[0m \u001b[0mself\u001b[0m\u001b[1;33m.\u001b[0m\u001b[0m_plot_args\u001b[0m\u001b[1;33m(\u001b[0m\u001b[0mthis\u001b[0m\u001b[1;33m,\u001b[0m \u001b[0mkwargs\u001b[0m\u001b[1;33m)\u001b[0m\u001b[1;33m\u001b[0m\u001b[1;33m\u001b[0m\u001b[0m\n\u001b[0m\u001b[0;32m    226\u001b[0m \u001b[1;33m\u001b[0m\u001b[0m\n\u001b[0;32m    227\u001b[0m     \u001b[1;32mdef\u001b[0m \u001b[0mget_next_color\u001b[0m\u001b[1;33m(\u001b[0m\u001b[0mself\u001b[0m\u001b[1;33m)\u001b[0m\u001b[1;33m:\u001b[0m\u001b[1;33m\u001b[0m\u001b[1;33m\u001b[0m\u001b[0m\n",
      "\u001b[1;32mC:\\ProgramData\\Anaconda3\\lib\\site-packages\\matplotlib\\axes\\_base.py\u001b[0m in \u001b[0;36m_plot_args\u001b[1;34m(self, tup, kwargs)\u001b[0m\n\u001b[0;32m    389\u001b[0m             \u001b[0mx\u001b[0m\u001b[1;33m,\u001b[0m \u001b[0my\u001b[0m \u001b[1;33m=\u001b[0m \u001b[0mindex_of\u001b[0m\u001b[1;33m(\u001b[0m\u001b[0mtup\u001b[0m\u001b[1;33m[\u001b[0m\u001b[1;33m-\u001b[0m\u001b[1;36m1\u001b[0m\u001b[1;33m]\u001b[0m\u001b[1;33m)\u001b[0m\u001b[1;33m\u001b[0m\u001b[1;33m\u001b[0m\u001b[0m\n\u001b[0;32m    390\u001b[0m \u001b[1;33m\u001b[0m\u001b[0m\n\u001b[1;32m--> 391\u001b[1;33m         \u001b[0mx\u001b[0m\u001b[1;33m,\u001b[0m \u001b[0my\u001b[0m \u001b[1;33m=\u001b[0m \u001b[0mself\u001b[0m\u001b[1;33m.\u001b[0m\u001b[0m_xy_from_xy\u001b[0m\u001b[1;33m(\u001b[0m\u001b[0mx\u001b[0m\u001b[1;33m,\u001b[0m \u001b[0my\u001b[0m\u001b[1;33m)\u001b[0m\u001b[1;33m\u001b[0m\u001b[1;33m\u001b[0m\u001b[0m\n\u001b[0m\u001b[0;32m    392\u001b[0m \u001b[1;33m\u001b[0m\u001b[0m\n\u001b[0;32m    393\u001b[0m         \u001b[1;32mif\u001b[0m \u001b[0mself\u001b[0m\u001b[1;33m.\u001b[0m\u001b[0mcommand\u001b[0m \u001b[1;33m==\u001b[0m \u001b[1;34m'plot'\u001b[0m\u001b[1;33m:\u001b[0m\u001b[1;33m\u001b[0m\u001b[1;33m\u001b[0m\u001b[0m\n",
      "\u001b[1;32mC:\\ProgramData\\Anaconda3\\lib\\site-packages\\matplotlib\\axes\\_base.py\u001b[0m in \u001b[0;36m_xy_from_xy\u001b[1;34m(self, x, y)\u001b[0m\n\u001b[0;32m    268\u001b[0m         \u001b[1;32mif\u001b[0m \u001b[0mx\u001b[0m\u001b[1;33m.\u001b[0m\u001b[0mshape\u001b[0m\u001b[1;33m[\u001b[0m\u001b[1;36m0\u001b[0m\u001b[1;33m]\u001b[0m \u001b[1;33m!=\u001b[0m \u001b[0my\u001b[0m\u001b[1;33m.\u001b[0m\u001b[0mshape\u001b[0m\u001b[1;33m[\u001b[0m\u001b[1;36m0\u001b[0m\u001b[1;33m]\u001b[0m\u001b[1;33m:\u001b[0m\u001b[1;33m\u001b[0m\u001b[1;33m\u001b[0m\u001b[0m\n\u001b[0;32m    269\u001b[0m             raise ValueError(\"x and y must have same first dimension, but \"\n\u001b[1;32m--> 270\u001b[1;33m                              \"have shapes {} and {}\".format(x.shape, y.shape))\n\u001b[0m\u001b[0;32m    271\u001b[0m         \u001b[1;32mif\u001b[0m \u001b[0mx\u001b[0m\u001b[1;33m.\u001b[0m\u001b[0mndim\u001b[0m \u001b[1;33m>\u001b[0m \u001b[1;36m2\u001b[0m \u001b[1;32mor\u001b[0m \u001b[0my\u001b[0m\u001b[1;33m.\u001b[0m\u001b[0mndim\u001b[0m \u001b[1;33m>\u001b[0m \u001b[1;36m2\u001b[0m\u001b[1;33m:\u001b[0m\u001b[1;33m\u001b[0m\u001b[1;33m\u001b[0m\u001b[0m\n\u001b[0;32m    272\u001b[0m             raise ValueError(\"x and y can be no greater than 2-D, but have \"\n",
      "\u001b[1;31mValueError\u001b[0m: x and y must have same first dimension, but have shapes (7,) and (70,)"
     ]
    },
    {
     "data": {
      "image/png": "[encoded data removed]",
      "text/plain": [
       "<Figure size 504x504 with 1 Axes>"
      ]
     },
     "metadata": {
      "needs_background": "light"
     },
     "output_type": "display_data"
    }
   ],
   "source": [
    "scroe_mean=[]\n",
    "for val in n_estimators:\n",
    "    score = cross_val_score(ensemble.RandomForestClassifier(n_estimators= val, random_state= 42), X, y, cv= kf, scoring=\"accuracy\")\n",
    "    scroe_mean.append(score.mean())\n",
    "    print(f'Average score({val}): {\"{:.3f}\".format(score.mean())}')\n",
    "    \n",
    "plt.subplots(1, figsize=(7,7))\n",
    "plt.plot(n_estimators, scroe_mean, label=\"Training score\", color=\"black\")\n",
    "plt.plot(n_estimators, test_mean, label=\"Cross-validation score\")\n",
    "\n",
    "#plt.fill_between(param_range, train_mean - train_std, train_mean + train_std)\n",
    "#plt.fill_between(param_range, test_mean - test_std, test_mean + test_std)\n",
    " \n",
    "plt.title(\"Validation Curve With Random Forest\")\n",
    "plt.xlabel(\"Number Of Trees\")\n",
    "plt.ylabel(\"Accuracy Score\")\n",
    "plt.tight_layout()\n",
    "plt.legend(loc=\"best\")\n",
    "plt.show()"
   ]
  },
  {
   "cell_type": "markdown",
   "metadata": {},
   "source": [
    "<h2> Accuracy with Two features which signficantly corelated with the target variable </h2>"
   ]
  },
  {
   "cell_type": "code",
   "execution_count": 111,
   "metadata": {},
   "outputs": [],
   "source": [
    "X1=df[['Maxpressure','Minpressure','Temperature', 'RHumidity', 'MinAmplitude']]"
   ]
  },
  {
   "cell_type": "code",
   "execution_count": 112,
   "metadata": {},
   "outputs": [],
   "source": [
    "y1=df['Class']"
   ]
  },
  {
   "cell_type": "code",
   "execution_count": 113,
   "metadata": {},
   "outputs": [
    {
     "data": {
      "text/html": [
       "<div>\n",
       "<style scoped>\n",
       "    .dataframe tbody tr th:only-of-type {\n",
       "        vertical-align: middle;\n",
       "    }\n",
       "\n",
       "    .dataframe tbody tr th {\n",
       "        vertical-align: top;\n",
       "    }\n",
       "\n",
       "    .dataframe thead th {\n",
       "        text-align: right;\n",
       "    }\n",
       "</style>\n",
       "<table border=\"1\" class=\"dataframe\">\n",
       "  <thead>\n",
       "    <tr style=\"text-align: right;\">\n",
       "      <th></th>\n",
       "      <th>Maxpressure</th>\n",
       "      <th>Minpressure</th>\n",
       "      <th>Temperature</th>\n",
       "      <th>RHumidity</th>\n",
       "      <th>MinAmplitude</th>\n",
       "    </tr>\n",
       "  </thead>\n",
       "  <tbody>\n",
       "    <tr>\n",
       "      <th>0</th>\n",
       "      <td>22.77</td>\n",
       "      <td>1.86</td>\n",
       "      <td>15.430000</td>\n",
       "      <td>11.503333</td>\n",
       "      <td>47.309760</td>\n",
       "    </tr>\n",
       "    <tr>\n",
       "      <th>1</th>\n",
       "      <td>24.34</td>\n",
       "      <td>1.40</td>\n",
       "      <td>15.590909</td>\n",
       "      <td>11.040909</td>\n",
       "      <td>46.020600</td>\n",
       "    </tr>\n",
       "    <tr>\n",
       "      <th>2</th>\n",
       "      <td>11.35</td>\n",
       "      <td>0.55</td>\n",
       "      <td>15.716667</td>\n",
       "      <td>10.053333</td>\n",
       "      <td>45.436832</td>\n",
       "    </tr>\n",
       "    <tr>\n",
       "      <th>3</th>\n",
       "      <td>26.12</td>\n",
       "      <td>2.00</td>\n",
       "      <td>17.200000</td>\n",
       "      <td>8.485417</td>\n",
       "      <td>47.857601</td>\n",
       "    </tr>\n",
       "    <tr>\n",
       "      <th>4</th>\n",
       "      <td>41.22</td>\n",
       "      <td>3.89</td>\n",
       "      <td>15.700000</td>\n",
       "      <td>16.425000</td>\n",
       "      <td>44.454329</td>\n",
       "    </tr>\n",
       "  </tbody>\n",
       "</table>\n",
       "</div>"
      ],
      "text/plain": [
       "   Maxpressure  Minpressure  Temperature  RHumidity  MinAmplitude\n",
       "0        22.77         1.86    15.430000  11.503333     47.309760\n",
       "1        24.34         1.40    15.590909  11.040909     46.020600\n",
       "2        11.35         0.55    15.716667  10.053333     45.436832\n",
       "3        26.12         2.00    17.200000   8.485417     47.857601\n",
       "4        41.22         3.89    15.700000  16.425000     44.454329"
      ]
     },
     "execution_count": 113,
     "metadata": {},
     "output_type": "execute_result"
    }
   ],
   "source": [
    "X1.head()"
   ]
  },
  {
   "cell_type": "code",
   "execution_count": 114,
   "metadata": {},
   "outputs": [],
   "source": [
    "X1_train, X1_test, y1_train, y1_test = train_test_split(X1, y1, test_size = 0.20, random_state = 42)\n"
   ]
  },
  {
   "cell_type": "code",
   "execution_count": 115,
   "metadata": {},
   "outputs": [
    {
     "name": "stdout",
     "output_type": "stream",
     "text": [
      "Fold:1, Train set: 81, Test set:9\n",
      "Fold:2, Train set: 81, Test set:9\n",
      "Fold:3, Train set: 81, Test set:9\n",
      "Fold:4, Train set: 81, Test set:9\n",
      "Fold:5, Train set: 81, Test set:9\n",
      "Fold:6, Train set: 81, Test set:9\n",
      "Fold:7, Train set: 81, Test set:9\n",
      "Fold:8, Train set: 81, Test set:9\n",
      "Fold:9, Train set: 81, Test set:9\n",
      "Fold:10, Train set: 81, Test set:9\n"
     ]
    }
   ],
   "source": [
    "kf = StratifiedKFold(n_splits=10, shuffle=True, random_state=42)\n",
    "\n",
    "cnt = 1\n",
    "# split()  method generate indices to split data into training and test set.\n",
    "for train_index, test_index in kf.split(X1, y1):\n",
    "    print(f'Fold:{cnt}, Train set: {len(train_index)}, Test set:{len(test_index)}')\n",
    "    cnt+=1"
   ]
  },
  {
   "cell_type": "code",
   "execution_count": 116,
   "metadata": {},
   "outputs": [
    {
     "name": "stdout",
     "output_type": "stream",
     "text": [
      "Average score(50): 0.856\n",
      "Average score(100): 0.867\n",
      "Average score(150): 0.878\n",
      "Average score(200): 0.878\n",
      "Average score(250): 0.878\n",
      "Average score(300): 0.867\n",
      "Average score(350): 0.856\n"
     ]
    }
   ],
   "source": [
    "n_estimators = [50, 100, 150, 200, 250, 300, 350]\n",
    "\n",
    "for val in n_estimators:\n",
    "    score = cross_val_score(ensemble.RandomForestClassifier(n_estimators= val, random_state= 42), X1, y1, cv= kf, scoring=\"accuracy\")\n",
    "    print(f'Average score({val}): {\"{:.3f}\".format(score.mean())}')\n"
   ]
  },
  {
   "cell_type": "markdown",
   "metadata": {},
   "source": [
    "<h2> Validation Curve </h2>"
   ]
  },
  {
   "cell_type": "code",
   "execution_count": 81,
   "metadata": {},
   "outputs": [],
   "source": [
    "from sklearn.model_selection import validation_curve\n",
    "import numpy as np"
   ]
  },
  {
   "cell_type": "code",
   "execution_count": 91,
   "metadata": {},
   "outputs": [
    {
     "name": "stdout",
     "output_type": "stream",
     "text": [
      "[[0.88888889 1.         1.         0.77777778 0.88888889 0.44444444\n",
      "  0.88888889 0.66666667 0.88888889 0.66666667]\n",
      " [0.88888889 1.         1.         0.77777778 0.88888889 0.55555556\n",
      "  0.88888889 1.         0.88888889 0.88888889]\n",
      " [0.77777778 1.         1.         0.88888889 0.88888889 0.55555556\n",
      "  0.88888889 1.         0.88888889 0.88888889]\n",
      " [0.88888889 1.         1.         0.88888889 0.88888889 0.55555556\n",
      "  0.88888889 1.         0.88888889 0.88888889]\n",
      " [0.88888889 1.         1.         0.88888889 0.88888889 0.55555556\n",
      "  1.         1.         0.88888889 0.88888889]\n",
      " [0.88888889 1.         1.         0.88888889 0.88888889 0.55555556\n",
      "  1.         1.         0.88888889 0.88888889]\n",
      " [0.88888889 1.         1.         0.88888889 0.88888889 0.66666667\n",
      "  1.         1.         0.88888889 0.88888889]\n",
      " [0.88888889 1.         1.         0.88888889 0.88888889 0.66666667\n",
      "  1.         1.         0.88888889 0.88888889]\n",
      " [0.88888889 1.         1.         0.88888889 0.88888889 0.66666667\n",
      "  0.88888889 1.         0.88888889 0.88888889]\n",
      " [0.88888889 1.         1.         0.88888889 0.88888889 0.66666667\n",
      "  0.88888889 1.         0.88888889 0.88888889]\n",
      " [0.88888889 1.         1.         0.88888889 0.88888889 0.55555556\n",
      "  1.         1.         0.88888889 0.88888889]\n",
      " [0.88888889 1.         1.         0.88888889 0.88888889 0.66666667\n",
      "  1.         1.         0.88888889 0.88888889]\n",
      " [0.88888889 1.         1.         0.88888889 0.88888889 0.66666667\n",
      "  0.88888889 1.         0.88888889 0.88888889]\n",
      " [0.88888889 1.         1.         0.88888889 0.88888889 0.66666667\n",
      "  0.88888889 1.         0.88888889 0.88888889]\n",
      " [0.88888889 1.         1.         0.88888889 0.88888889 0.66666667\n",
      "  0.88888889 1.         0.88888889 0.88888889]\n",
      " [0.88888889 1.         1.         0.88888889 0.88888889 0.66666667\n",
      "  0.88888889 1.         0.88888889 0.88888889]\n",
      " [0.88888889 1.         1.         0.88888889 0.88888889 0.66666667\n",
      "  0.88888889 1.         0.88888889 0.88888889]\n",
      " [0.88888889 1.         1.         0.88888889 0.88888889 0.66666667\n",
      "  0.88888889 1.         0.88888889 0.88888889]\n",
      " [0.88888889 1.         1.         0.88888889 0.88888889 0.66666667\n",
      "  0.88888889 1.         0.88888889 0.88888889]\n",
      " [0.88888889 1.         1.         0.88888889 0.88888889 0.66666667\n",
      "  0.88888889 1.         0.88888889 0.88888889]\n",
      " [0.88888889 1.         1.         0.88888889 0.88888889 0.66666667\n",
      "  0.88888889 1.         0.88888889 0.88888889]\n",
      " [0.88888889 1.         1.         0.88888889 0.88888889 0.66666667\n",
      "  0.88888889 1.         0.88888889 0.88888889]\n",
      " [0.88888889 1.         1.         0.88888889 0.88888889 0.66666667\n",
      "  1.         1.         0.88888889 0.88888889]\n",
      " [0.88888889 1.         1.         0.88888889 0.88888889 0.66666667\n",
      "  0.88888889 1.         0.88888889 0.88888889]\n",
      " [0.88888889 1.         1.         0.88888889 0.88888889 0.66666667\n",
      "  0.88888889 1.         0.88888889 0.88888889]\n",
      " [0.88888889 1.         1.         0.88888889 0.88888889 0.66666667\n",
      "  0.88888889 1.         0.88888889 0.88888889]\n",
      " [0.88888889 1.         1.         0.88888889 0.88888889 0.66666667\n",
      "  0.88888889 1.         0.88888889 0.88888889]\n",
      " [0.88888889 1.         1.         0.88888889 0.88888889 0.66666667\n",
      "  0.88888889 1.         0.88888889 0.88888889]\n",
      " [0.88888889 1.         1.         0.88888889 0.88888889 0.66666667\n",
      "  0.88888889 1.         0.88888889 0.88888889]\n",
      " [0.88888889 1.         1.         0.88888889 0.88888889 0.66666667\n",
      "  0.88888889 1.         0.88888889 0.88888889]\n",
      " [0.88888889 1.         1.         0.88888889 0.88888889 0.66666667\n",
      "  0.88888889 1.         0.88888889 0.88888889]\n",
      " [0.88888889 1.         1.         0.88888889 0.88888889 0.66666667\n",
      "  0.88888889 1.         0.88888889 0.88888889]\n",
      " [0.88888889 1.         1.         0.88888889 0.88888889 0.66666667\n",
      "  0.88888889 1.         0.88888889 0.88888889]\n",
      " [0.88888889 1.         1.         0.88888889 0.88888889 0.66666667\n",
      "  0.88888889 1.         0.88888889 0.88888889]\n",
      " [0.88888889 1.         1.         0.88888889 0.88888889 0.66666667\n",
      "  0.88888889 1.         0.88888889 0.88888889]\n",
      " [0.88888889 1.         1.         0.88888889 0.88888889 0.66666667\n",
      "  0.88888889 1.         0.88888889 0.88888889]\n",
      " [0.88888889 1.         1.         0.88888889 0.88888889 0.66666667\n",
      "  0.88888889 1.         0.88888889 0.88888889]\n",
      " [0.88888889 1.         1.         0.88888889 0.88888889 0.66666667\n",
      "  0.88888889 1.         0.88888889 0.88888889]\n",
      " [0.88888889 1.         1.         0.88888889 0.88888889 0.66666667\n",
      "  0.88888889 1.         0.88888889 0.88888889]\n",
      " [0.88888889 1.         1.         0.88888889 0.88888889 0.66666667\n",
      "  0.88888889 1.         0.88888889 0.88888889]\n",
      " [0.88888889 1.         1.         0.88888889 0.88888889 0.66666667\n",
      "  0.88888889 1.         0.88888889 0.88888889]\n",
      " [0.88888889 1.         1.         0.88888889 0.88888889 0.66666667\n",
      "  0.88888889 1.         0.88888889 0.88888889]\n",
      " [0.88888889 1.         1.         0.88888889 0.88888889 0.66666667\n",
      "  0.88888889 1.         0.88888889 0.88888889]\n",
      " [0.88888889 1.         1.         0.88888889 0.88888889 0.66666667\n",
      "  0.88888889 1.         0.88888889 0.88888889]\n",
      " [0.88888889 1.         1.         0.88888889 0.88888889 0.66666667\n",
      "  0.88888889 1.         0.88888889 0.88888889]\n",
      " [0.88888889 1.         1.         0.88888889 0.88888889 0.66666667\n",
      "  0.88888889 1.         0.88888889 0.88888889]\n",
      " [0.88888889 1.         1.         0.88888889 0.88888889 0.66666667\n",
      "  0.88888889 1.         0.88888889 0.88888889]\n",
      " [0.88888889 1.         1.         0.88888889 0.88888889 0.66666667\n",
      "  0.88888889 1.         0.88888889 0.88888889]\n",
      " [0.88888889 1.         1.         0.88888889 0.88888889 0.66666667\n",
      "  0.88888889 1.         0.88888889 0.88888889]\n",
      " [0.77777778 1.         1.         0.88888889 0.88888889 0.66666667\n",
      "  0.88888889 1.         0.88888889 0.88888889]\n",
      " [0.77777778 1.         1.         0.88888889 0.88888889 0.66666667\n",
      "  0.88888889 1.         0.88888889 0.88888889]\n",
      " [0.77777778 1.         1.         0.88888889 0.88888889 0.66666667\n",
      "  0.88888889 1.         0.88888889 0.88888889]\n",
      " [0.77777778 1.         1.         0.88888889 0.88888889 0.66666667\n",
      "  0.88888889 1.         0.88888889 0.88888889]\n",
      " [0.77777778 1.         1.         0.88888889 0.88888889 0.66666667\n",
      "  0.88888889 1.         0.88888889 0.88888889]\n",
      " [0.77777778 1.         1.         0.88888889 0.88888889 0.66666667\n",
      "  0.88888889 1.         0.88888889 0.88888889]\n",
      " [0.77777778 1.         1.         0.88888889 0.88888889 0.66666667\n",
      "  0.88888889 1.         0.88888889 0.88888889]\n",
      " [0.77777778 1.         1.         0.88888889 0.88888889 0.66666667\n",
      "  0.88888889 1.         0.88888889 0.88888889]\n",
      " [0.77777778 1.         1.         0.88888889 0.88888889 0.66666667\n",
      "  0.88888889 1.         0.88888889 0.88888889]\n",
      " [0.77777778 1.         1.         0.88888889 0.88888889 0.66666667\n",
      "  0.88888889 1.         0.88888889 0.88888889]\n",
      " [0.77777778 1.         1.         0.88888889 0.88888889 0.66666667\n",
      "  0.88888889 1.         0.88888889 0.88888889]\n",
      " [0.77777778 1.         1.         0.88888889 0.88888889 0.66666667\n",
      "  0.88888889 1.         0.88888889 0.88888889]\n",
      " [0.77777778 1.         1.         0.88888889 0.88888889 0.66666667\n",
      "  0.88888889 1.         0.88888889 0.88888889]\n",
      " [0.77777778 1.         1.         0.88888889 0.88888889 0.66666667\n",
      "  0.88888889 1.         0.88888889 0.88888889]\n",
      " [0.77777778 1.         1.         0.88888889 0.88888889 0.66666667\n",
      "  0.88888889 1.         0.88888889 0.88888889]\n",
      " [0.77777778 1.         1.         0.88888889 0.88888889 0.66666667\n",
      "  0.88888889 1.         0.88888889 0.88888889]\n",
      " [0.77777778 1.         1.         0.88888889 0.88888889 0.66666667\n",
      "  0.88888889 1.         0.88888889 0.88888889]\n",
      " [0.77777778 1.         1.         0.88888889 0.88888889 0.66666667\n",
      "  0.88888889 1.         0.88888889 0.88888889]\n",
      " [0.77777778 1.         1.         0.88888889 0.88888889 0.66666667\n",
      "  0.88888889 1.         0.88888889 0.88888889]\n",
      " [0.77777778 1.         1.         0.88888889 0.88888889 0.66666667\n",
      "  0.88888889 1.         0.88888889 0.88888889]\n",
      " [0.77777778 1.         1.         0.88888889 0.88888889 0.66666667\n",
      "  0.88888889 1.         0.88888889 0.88888889]]\n"
     ]
    }
   ],
   "source": [
    "param_range = np.arange(1, 350, 5)\n",
    "train_scores, test_scores = validation_curve(RandomForestClassifier(random_state = 42),\n",
    "                                  X1, y1, param_name=\"n_estimators\", param_range=param_range,\n",
    "                                  cv=10, scoring=\"accuracy\", n_jobs=-1)\n",
    "print(test_scores)"
   ]
  },
  {
   "cell_type": "code",
   "execution_count": 92,
   "metadata": {},
   "outputs": [],
   "source": [
    "train_mean = np.mean(train_scores, axis=1)\n",
    "train_std = np.std(train_scores, axis=1)\n",
    "\n",
    "test_mean = np.mean(test_scores, axis=1)\n",
    "test_std = np.std(test_scores, axis=1)"
   ]
  },
  {
   "cell_type": "code",
   "execution_count": null,
   "metadata": {},
   "outputs": [],
   "source": []
  },
  {
   "cell_type": "code",
   "execution_count": null,
   "metadata": {},
   "outputs": [],
   "source": []
  },
  {
   "cell_type": "code",
   "execution_count": 84,
   "metadata": {},
   "outputs": [
    {
     "data": {
      "image/png": "[encoded data removed]",
      "text/plain": [
       "<Figure size 504x504 with 1 Axes>"
      ]
     },
     "metadata": {
      "needs_background": "light"
     },
     "output_type": "display_data"
    },
    {
     "data": {
      "text/plain": [
       "<Figure size 432x288 with 0 Axes>"
      ]
     },
     "metadata": {},
     "output_type": "display_data"
    }
   ],
   "source": [
    "plt.subplots(1, figsize=(7,7))\n",
    "plt.plot(param_range, train_mean, label=\"Training score\", color=\"red\")\n",
    "plt.plot(param_range, test_mean, label=\"Cross-validation score\")\n",
    "plt.rcParams.update({'font.size': 14})\n",
    "\n",
    "#plt.fill_between(param_range, train_mean - train_std, train_mean + train_std)\n",
    "#plt.fill_between(param_range, test_mean - test_std, test_mean + test_std)\n",
    " \n",
    "plt.title(\"Validation Curve with n-estimator\")\n",
    "plt.xlabel(\"Number Of Trees\")\n",
    "plt.ylabel(\"Accuracy Score\")\n",
    "plt.legend(loc=\"lower left\")\n",
    "#plt.tight_layout()\n",
    "#plt.legend(loc=\"best\")\n",
    "plt.show()\n",
    "plt.savefig('filename.png', dpi = 400)"
   ]
  },
  {
   "cell_type": "code",
   "execution_count": 85,
   "metadata": {},
   "outputs": [],
   "source": [
    "param_rangem= np.arange(1, 50, 5)\n",
    "train_scores, test_scores = validation_curve(RandomForestClassifier(random_state = 42),\n",
    "                                  X1,y1, param_name =\"max_depth\", param_range=param_rangem,\n",
    "                                  cv=6, scoring=\"accuracy\", n_jobs=-1)\n",
    "\n",
    "#print(test_scores)"
   ]
  },
  {
   "cell_type": "code",
   "execution_count": 86,
   "metadata": {},
   "outputs": [],
   "source": [
    "train_mean1 = np.mean(train_scores, axis=1)\n",
    "train_std1 = np.std(train_scores, axis=1)\n",
    "\n",
    "test_mean1 = np.mean(test_scores, axis=1)\n",
    "test_std1 = np.std(test_scores, axis=1)"
   ]
  },
  {
   "cell_type": "code",
   "execution_count": 87,
   "metadata": {},
   "outputs": [
    {
     "data": {
      "image/png": "[encoded data removed]",
      "text/plain": [
       "<Figure size 504x504 with 1 Axes>"
      ]
     },
     "metadata": {
      "needs_background": "light"
     },
     "output_type": "display_data"
    },
    {
     "data": {
      "text/plain": [
       "<Figure size 432x288 with 0 Axes>"
      ]
     },
     "metadata": {},
     "output_type": "display_data"
    }
   ],
   "source": [
    "plt.subplots(1, figsize=(7,7))\n",
    "plt.plot(param_rangem, train_mean1, label=\"Training score\", color=\"red\")\n",
    "plt.plot(param_rangem, test_mean1, label=\"Cross-validation score\")\n",
    "plt.rcParams.update({'font.size': 14})\n",
    "#plt.fill_between(param_range, train_mean - train_std, train_mean + train_std)\n",
    "#plt.fill_between(param_range, test_mean - test_std, test_mean + test_std)\n",
    " \n",
    "plt.title(\"Validation Curve With Max_depth\")\n",
    "plt.xlabel(\"Max_Depth\")\n",
    "plt.ylabel(\"Accuracy Score\")\n",
    "plt.legend(loc=\"lower left\")\n",
    "#plt.tight_layout()\n",
    "#plt.legend(loc=\"best\")\n",
    "plt.show()\n",
    "plt.savefig('filename1.png', dpi = 400)"
   ]
  },
  {
   "cell_type": "code",
   "execution_count": 88,
   "metadata": {},
   "outputs": [
    {
     "name": "stdout",
     "output_type": "stream",
     "text": [
      "[[0.86666667 0.66666667 0.6        0.66666667 0.6        0.33333333]\n",
      " [0.93333333 1.         0.8        0.73333333 0.93333333 0.86666667]\n",
      " [0.86666667 1.         0.8        0.8        0.93333333 0.86666667]\n",
      " [0.86666667 1.         0.8        0.8        0.93333333 0.86666667]\n",
      " [0.86666667 1.         0.8        0.8        0.93333333 0.86666667]\n",
      " [0.86666667 1.         0.8        0.8        0.93333333 0.86666667]\n",
      " [0.86666667 1.         0.8        0.8        0.93333333 0.86666667]\n",
      " [0.86666667 1.         0.8        0.8        0.93333333 0.86666667]\n",
      " [0.86666667 1.         0.8        0.8        0.93333333 0.86666667]\n",
      " [0.86666667 1.         0.8        0.8        0.93333333 0.86666667]]\n"
     ]
    }
   ],
   "source": [
    "param_rangen= np.arange(1, 7, 1)\n",
    "train_scores2, test_scores2 = validation_curve(RandomForestClassifier(random_state = 42),\n",
    "                                  X1,y1, param_name =\"min_samples_leaf\", param_range=param_rangen,\n",
    "                                  cv=6, scoring=\"accuracy\", n_jobs=-1)\n",
    "\n",
    "print(test_scores)"
   ]
  },
  {
   "cell_type": "code",
   "execution_count": 89,
   "metadata": {},
   "outputs": [],
   "source": [
    "\n",
    "train_mean2 = np.mean(train_scores2, axis=1)\n",
    "train_std2 = np.std(train_scores2, axis=1)\n",
    "\n",
    "test_mean2 = np.mean(test_scores2, axis=1)\n",
    "test_std2 = np.std(test_scores2, axis=1)\n"
   ]
  },
  {
   "cell_type": "code",
   "execution_count": 90,
   "metadata": {},
   "outputs": [
    {
     "data": {
      "image/png": "[encoded data removed]",
      "text/plain": [
       "<Figure size 504x504 with 1 Axes>"
      ]
     },
     "metadata": {
      "needs_background": "light"
     },
     "output_type": "display_data"
    },
    {
     "data": {
      "text/plain": [
       "<Figure size 432x288 with 0 Axes>"
      ]
     },
     "metadata": {},
     "output_type": "display_data"
    }
   ],
   "source": [
    "\n",
    "plt.subplots(1, figsize=(7,7))\n",
    "plt.plot(param_rangen, train_mean2, label=\"Training score\", color=\"red\")\n",
    "plt.plot(param_rangen, test_mean2, label=\"Cross-validation score\")\n",
    "plt.rcParams.update({'font.size': 14})\n",
    "#plt.fill_between(param_range, train_mean - train_std, train_mean + train_std)\n",
    "#plt.fill_between(param_range, test_mean - test_std, test_mean + test_std)\n",
    " \n",
    "plt.title(\"Validation Curve With min_samples_leaf\")\n",
    "plt.xlabel(\"min_samples_leaf\")\n",
    "plt.ylabel(\"Accuracy Score\")\n",
    "plt.legend(loc=\"lower left\")\n",
    "\n",
    "#plt.tight_layout()\n",
    "#plt.legend(loc=\"best\")\n",
    "plt.show()\n",
    "plt.savefig('filename1.png', dpi = 400)\n"
   ]
  },
  {
   "cell_type": "code",
   "execution_count": null,
   "metadata": {},
   "outputs": [],
   "source": []
  },
  {
   "cell_type": "code",
   "execution_count": null,
   "metadata": {},
   "outputs": [],
   "source": []
  },
  {
   "cell_type": "code",
   "execution_count": null,
   "metadata": {},
   "outputs": [],
   "source": []
  },
  {
   "cell_type": "code",
   "execution_count": null,
   "metadata": {},
   "outputs": [],
   "source": []
  }
 ],
 "metadata": {
  "kernelspec": {
   "display_name": "Python 3",
   "language": "python",
   "name": "python3"
  },
  "language_info": {
   "codemirror_mode": {
    "name": "ipython",
    "version": 3
   },
   "file_extension": ".py",
   "mimetype": "text/x-python",
   "name": "python",
   "nbconvert_exporter": "python",
   "pygments_lexer": "ipython3",
   "version": "3.7.6"
  }
 },
 "nbformat": 4,
 "nbformat_minor": 5
}
